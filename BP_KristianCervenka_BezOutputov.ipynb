version https://git-lfs.github.com/spec/v1
oid sha256:5c21c80ecdc9d7a381447bd86887ee7c177267776b05928f27c9ae5827c34a44
size 230068
