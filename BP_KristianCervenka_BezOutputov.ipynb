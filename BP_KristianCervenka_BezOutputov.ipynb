version https://git-lfs.github.com/spec/v1
oid sha256:aeeb3c1c18401d214552f56383d32eba71e16df1195062184686fd4f23112305
size 229924
